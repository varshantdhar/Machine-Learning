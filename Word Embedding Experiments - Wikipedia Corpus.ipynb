{
 "cells": [
  {
   "cell_type": "markdown",
   "metadata": {},
   "source": [
    "## Word Embedding Experiments with the Wikipedia Corpus using PMI Embeddings "
   ]
  },
  {
   "cell_type": "markdown",
   "metadata": {},
   "source": [
    "### Pre-processing "
   ]
  },
  {
   "cell_type": "code",
   "execution_count": 3,
   "metadata": {},
   "outputs": [
    {
     "name": "stdout",
     "output_type": "stream",
     "text": [
      "[nltk_data] Downloading package punkt to /home/varshant/nltk_data...\n",
      "[nltk_data]   Package punkt is already up-to-date!\n",
      "[nltk_data] Downloading package stopwords to\n",
      "[nltk_data]     /home/varshant/nltk_data...\n",
      "[nltk_data]   Package stopwords is already up-to-date!\n"
     ]
    },
    {
     "data": {
      "text/plain": [
       "True"
      ]
     },
     "execution_count": 3,
     "metadata": {},
     "output_type": "execute_result"
    }
   ],
   "source": [
    "import nltk\n",
    "from numpy.linalg import inv\n",
    "import numpy as np\n",
    "import matplotlib.pyplot as plt\n",
    "from nltk.corpus import stopwords\n",
    "nltk.download('punkt')\n",
    "nltk.download('stopwords')"
   ]
  },
  {
   "cell_type": "code",
   "execution_count": 4,
   "metadata": {
    "collapsed": true
   },
   "outputs": [],
   "source": [
    "f = open(\"/project/cmsc25025/wikipedia/wiki-text.txt\", \"r\")\n",
    "wiki_contents = f.read()\n",
    "stop_words = set(stopwords.words('english'))"
   ]
  },
  {
   "cell_type": "code",
   "execution_count": 5,
   "metadata": {
    "collapsed": true
   },
   "outputs": [],
   "source": [
    "corpus = wiki_contents.split(' ')\n",
    "words = list(corpus)"
   ]
  },
  {
   "cell_type": "code",
   "execution_count": 6,
   "metadata": {
    "collapsed": true
   },
   "outputs": [],
   "source": [
    "words = [w for w in words if w not in stop_words]"
   ]
  },
  {
   "cell_type": "code",
   "execution_count": 7,
   "metadata": {
    "collapsed": true
   },
   "outputs": [],
   "source": [
    "fdist = nltk.FreqDist(words)"
   ]
  },
  {
   "cell_type": "code",
   "execution_count": 8,
   "metadata": {
    "collapsed": true
   },
   "outputs": [],
   "source": [
    "vocab_word = sorted(w for w in set(words) if fdist[w] > 500)"
   ]
  },
  {
   "cell_type": "code",
   "execution_count": 9,
   "metadata": {
    "collapsed": true
   },
   "outputs": [],
   "source": [
    "index_dict = {};\n",
    "for idx, word in enumerate(vocab_word):\n",
    "    index_dict[word] = idx\n",
    "vocab_len = len(vocab_word)\n",
    "vocab_word = set(vocab_word)"
   ]
  },
  {
   "cell_type": "code",
   "execution_count": 10,
   "metadata": {
    "collapsed": true
   },
   "outputs": [],
   "source": [
    "corpus = [' ', ' ', ' ', ' ', ' '] + corpus\n",
    "corpus = corpus + [' ', ' ', ' ', ' ', ' ']"
   ]
  },
  {
   "cell_type": "code",
   "execution_count": 11,
   "metadata": {
    "collapsed": true
   },
   "outputs": [],
   "source": [
    "context_word_arr = np.zeros((vocab_len, vocab_len));"
   ]
  },
  {
   "cell_type": "markdown",
   "metadata": {},
   "source": [
    "### Compute PMI "
   ]
  },
  {
   "cell_type": "code",
   "execution_count": 12,
   "metadata": {},
   "outputs": [
    {
     "name": "stdout",
     "output_type": "stream",
     "text": " "
    }
   ],
   "source": [
    "for indx, word in enumerate(words):\n",
    "    if word in vocab_word:\n",
    "        i = index_dict[word]\n",
    "        for k in range(1,5):\n",
    "            if words[indx - k] in vocab_word:\n",
    "                j = index_dict[words[indx - k]]\n",
    "                context_word_arr[i, j] += 1\n",
    "            if words[indx + k] in vocab_word:\n",
    "                j = index_dict[words[indx + k]]\n",
    "                context_word_arr[i, j] += 1\n",
    "    if (indx % 10000 == 0):\n",
    "        print indx\n",
    "        "
   ]
  },
  {
   "cell_type": "code",
   "execution_count": 13,
   "metadata": {
    "collapsed": true
   },
   "outputs": [],
   "source": [
    "num_pairs = np.count_nonzero(context_word_arr)\n",
    "totals = np.sum(context_word_arr, axis=1)\n",
    "\n",
    "vocab_len = len(vocab_word)\n",
    "M = np.zeros((vocab_len, vocab_len))\n",
    "for index, x in np.ndenumerate(M):\n",
    "    i = index[0]\n",
    "    j = index[1]\n",
    "    M[i, j] = np.log(((context_word_arr[i, j] + 1) * num_pairs ) / (totals[i] * totals[j]))\n",
    "        "
   ]
  },
  {
   "cell_type": "markdown",
   "metadata": {},
   "source": [
    "### k-SVD of PMI Matrix "
   ]
  },
  {
   "cell_type": "code",
   "execution_count": 14,
   "metadata": {
    "collapsed": true
   },
   "outputs": [],
   "source": [
    "import scipy\n",
    "U, s, V = scipy.sparse.linalg.svds(scipy.sparse.csr_matrix(M), k=50)"
   ]
  },
  {
   "cell_type": "code",
   "execution_count": 15,
   "metadata": {},
   "outputs": [
    {
     "data": {
      "text/plain": [
       "(13201, 50)"
      ]
     },
     "execution_count": 15,
     "metadata": {},
     "output_type": "execute_result"
    }
   ],
   "source": [
    "s = np.diag(s)\n",
    "W = np.dot(U, np.sqrt(s))\n",
    "import pickle \n",
    "np.save('embeddings', W)\n",
    "W.shape"
   ]
  },
  {
   "cell_type": "markdown",
   "metadata": {},
   "source": [
    "### Find similarities "
   ]
  },
  {
   "cell_type": "code",
   "execution_count": 16,
   "metadata": {
    "collapsed": true
   },
   "outputs": [],
   "source": [
    "index_word = {}\n",
    "for key in index_dict.keys():\n",
    "    index_word[index_dict[key]] = key"
   ]
  },
  {
   "cell_type": "code",
   "execution_count": 17,
   "metadata": {
    "collapsed": true
   },
   "outputs": [],
   "source": [
    "def get_similar(word, n=5):\n",
    "    similarities = np.dot(U, U[index_dict[word]])\n",
    "    most_similar = similarities.argsort()\n",
    "    most_similar = most_similar[::-1]\n",
    "    for i in range(n):\n",
    "        print(index_word[most_similar[i]])"
   ]
  },
  {
   "cell_type": "code",
   "execution_count": 18,
   "metadata": {},
   "outputs": [
    {
     "name": "stdout",
     "output_type": "stream",
     "text": [
      "physics\n",
      "science\n",
      "mathematics\n",
      "university\n",
      "theory\n"
     ]
    }
   ],
   "source": [
    "get_similar('physics')"
   ]
  },
  {
   "cell_type": "code",
   "execution_count": 19,
   "metadata": {},
   "outputs": [
    {
     "name": "stdout",
     "output_type": "stream",
     "text": [
      "republican\n",
      "election\n",
      "party\n",
      "senator\n",
      "democratic\n"
     ]
    }
   ],
   "source": [
    "get_similar('republican')"
   ]
  },
  {
   "cell_type": "code",
   "execution_count": 20,
   "metadata": {},
   "outputs": [
    {
     "name": "stdout",
     "output_type": "stream",
     "text": [
      "physics\n",
      "theory\n",
      "quantum\n",
      "mathematics\n",
      "mathematical\n"
     ]
    }
   ],
   "source": [
    "get_similar('einstein')"
   ]
  },
  {
   "cell_type": "code",
   "execution_count": 21,
   "metadata": {},
   "outputs": [
    {
     "name": "stdout",
     "output_type": "stream",
     "text": [
      "theorem\n",
      "algebra\n",
      "frac\n",
      "vector\n",
      "finite\n"
     ]
    }
   ],
   "source": [
    "get_similar('algebra')"
   ]
  },
  {
   "cell_type": "code",
   "execution_count": 22,
   "metadata": {},
   "outputs": [
    {
     "name": "stdout",
     "output_type": "stream",
     "text": [
      "species\n",
      "food\n",
      "fish\n",
      "fruit\n",
      "birds\n"
     ]
    }
   ],
   "source": [
    "get_similar('fish')"
   ]
  },
  {
   "cell_type": "markdown",
   "metadata": {},
   "source": [
    "### Finding linear analogies"
   ]
  },
  {
   "cell_type": "code",
   "execution_count": 23,
   "metadata": {
    "collapsed": true
   },
   "outputs": [],
   "source": [
    "def analogies(w1, w2, w3):\n",
    "    v1 = U[index_dict[w1]]\n",
    "    v2 = U[index_dict[w2]]\n",
    "    v3 = U[index_dict[w3]]\n",
    "    v = v1 - v2 + v3\n",
    "    most_similar = np.dot(U, v)\n",
    "    most_similar = most_similar.argsort()\n",
    "    most_similar = most_similar[::-1]\n",
    "    \n",
    "    for i in range(5):\n",
    "        print(index_word[most_similar[i]])"
   ]
  },
  {
   "cell_type": "code",
   "execution_count": 24,
   "metadata": {},
   "outputs": [
    {
     "name": "stdout",
     "output_type": "stream",
     "text": [
      "france : paris :: england : london\n",
      "england\n",
      "london\n",
      "scotland\n",
      "wales\n",
      "st\n"
     ]
    }
   ],
   "source": [
    "print(\"france : paris :: england : london\")\n",
    "analogies('paris', 'france', 'england' )"
   ]
  },
  {
   "cell_type": "code",
   "execution_count": 25,
   "metadata": {},
   "outputs": [
    {
     "name": "stdout",
     "output_type": "stream",
     "text": [
      "republican : democrat :: conservative : liberal\n",
      "party\n",
      "conservative\n",
      "liberal\n",
      "election\n",
      "republican\n"
     ]
    }
   ],
   "source": [
    "print(\"republican : democrat :: conservative : liberal\")\n",
    "analogies('republican', 'democrat', 'conservative' )"
   ]
  },
  {
   "cell_type": "code",
   "execution_count": 26,
   "metadata": {},
   "outputs": [
    {
     "name": "stdout",
     "output_type": "stream",
     "text": [
      "thief : bad :: child : daughter\n",
      "daughter\n",
      "mother\n",
      "child\n",
      "wife\n",
      "marriage\n"
     ]
    }
   ],
   "source": [
    "print(\"thief : bad :: child : daughter\")\n",
    "analogies('thief', 'bad', 'child' )"
   ]
  },
  {
   "cell_type": "code",
   "execution_count": 27,
   "metadata": {},
   "outputs": [
    {
     "name": "stdout",
     "output_type": "stream",
     "text": [
      "nearby : remote :: native : language\n",
      "native\n",
      "language\n",
      "languages\n",
      "african\n",
      "people\n"
     ]
    }
   ],
   "source": [
    "print(\"nearby : remote :: native : language\")\n",
    "analogies('remote', 'nearby', 'native' )"
   ]
  },
  {
   "cell_type": "code",
   "execution_count": 28,
   "metadata": {},
   "outputs": [
    {
     "name": "stdout",
     "output_type": "stream",
     "text": [
      "happy : smile :: pain : disease\n",
      "disease\n",
      "symptoms\n",
      "pain\n",
      "patients\n",
      "heart\n"
     ]
    }
   ],
   "source": [
    "print(\"happy : smile :: pain : disease\")\n",
    "analogies('happy', 'smile', 'pain' )"
   ]
  },
  {
   "cell_type": "code",
   "execution_count": 29,
   "metadata": {},
   "outputs": [
    {
     "name": "stdout",
     "output_type": "stream",
     "text": [
      "sad : anger :: happy : love\n",
      "want\n",
      "happy\n",
      "love\n",
      "girl\n",
      "song\n"
     ]
    }
   ],
   "source": [
    "print(\"sad : anger :: happy : love\")\n",
    "analogies('sad', 'anger', 'happy' )"
   ]
  }
 ],
 "metadata": {
  "kernelspec": {
   "display_name": "Python 2",
   "language": "python",
   "name": "python2"
  },
  "language_info": {
   "codemirror_mode": {
    "name": "ipython",
    "version": 2
   },
   "file_extension": ".py",
   "mimetype": "text/x-python",
   "name": "python",
   "nbconvert_exporter": "python",
   "pygments_lexer": "ipython2",
   "version": "2.7.14"
  }
 },
 "nbformat": 4,
 "nbformat_minor": 2
}
