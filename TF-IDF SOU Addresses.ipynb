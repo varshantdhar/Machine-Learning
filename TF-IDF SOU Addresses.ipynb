{
 "cells": [
  {
   "cell_type": "markdown",
   "metadata": {},
   "source": [
    "### TF-IDF SOU Addresses: we use the classic vector space model from information retrieval to find similar State Of the Union addresses."
   ]
  },
  {
   "cell_type": "code",
   "execution_count": 186,
   "metadata": {},
   "outputs": [],
   "source": [
    "from __future__ import division\n",
    "import string\n",
    "import math"
   ]
  },
  {
   "cell_type": "code",
   "execution_count": 221,
   "metadata": {},
   "outputs": [
    {
     "name": "stdout",
     "output_type": "stream",
     "text": [
      "Number of Speeches: 226\n"
     ]
    }
   ],
   "source": [
    "with open(\"speeches.pkl\", \"r\") as f:\n",
    "    w = pickle.load(f)\n",
    "print \"Number of Speeches: \" + str(len(w))\n",
    "no_documents = len(w)"
   ]
  },
  {
   "cell_type": "code",
   "execution_count": 188,
   "metadata": {},
   "outputs": [],
   "source": [
    "def clean_and_split(s):\n",
    "    s = s.encode('utf-8').lower().replace('-',' ').translate(None, string.punctuation)\n",
    "    s = re.sub('(\\r\\n)+',' ',s)\n",
    "    s = re.sub(' +',' ',s.strip())\n",
    "    return s.split(' ')"
   ]
  },
  {
   "cell_type": "code",
   "execution_count": 189,
   "metadata": {},
   "outputs": [],
   "source": [
    "i = 0\n",
    "speeches = []\n",
    "while (i < no_documents):\n",
    "    speeches.append(w[i].text)\n",
    "    i += 1"
   ]
  },
  {
   "cell_type": "code",
   "execution_count": 191,
   "metadata": {},
   "outputs": [],
   "source": [
    "def word_frequency(word, wordlist):\n",
    "    return wordlist.count(word)"
   ]
  },
  {
   "cell_type": "code",
   "execution_count": null,
   "metadata": {},
   "outputs": [],
   "source": [
    "from nltk.corpus import stopwords\n",
    "def rem_stop_words(wordlists):\n",
    "    for speech in wordlists:\n",
    "        "
   ]
  },
  {
   "cell_type": "code",
   "execution_count": 196,
   "metadata": {},
   "outputs": [],
   "source": [
    "def tfidf(speeches):\n",
    "    boolean = 0 \n",
    "    wordlists = [clean_and_split(s) for s in speeches]\n",
    "    idf = inverse_speech_frequencies(wordlists)\n",
    "    tfidf_speeches = []\n",
    "    for speech in wordlists:\n",
    "        speech_tfidf = []\n",
    "        for word in idf.keys():\n",
    "            if (word_frequency(word, speech) > 50): #removes words that appear fewer than 50 times \n",
    "                tf = sublinear_word_frequency(word, speech)\n",
    "                speech_tfidf.append(tf * idf[word])\n",
    "                boolean = 1\n",
    "        if (boolean):\n",
    "            tfidf_speeches.append(speech_tfidf)\n",
    "    return tfidf_speeches"
   ]
  },
  {
   "cell_type": "code",
   "execution_count": 192,
   "metadata": {},
   "outputs": [],
   "source": [
    "def inverse_speech_frequencies(wordlist):\n",
    "    idf_values = {}\n",
    "    all_words_set = set([item for sublist in wordlist for item in sublist])\n",
    "    for wrd in all_words_set:\n",
    "        contains_word = map(lambda speech: wrd in speech, wordlist)\n",
    "        idf_values[wrd] = 1 + math.log(len(wordlist)/(sum(contains_word)))\n",
    "    return idf_values\n",
    "\n",
    "def sublinear_word_frequency(word, wordlist):\n",
    "    return 1 + math.log(wordlist.count(word))"
   ]
  },
  {
   "cell_type": "code",
   "execution_count": 197,
   "metadata": {},
   "outputs": [],
   "source": [
    "from sklearn.feature_extraction.text import TfidfVectorizer\n",
    "\n",
    "sklearn_tfidf = TfidfVectorizer(norm='l2',min_df=0, use_idf=True, smooth_idf=False, sublinear_tf=True, analyzer = 'word')\n",
    "sklearn_representation = sklearn_tfidf.fit_transform(speeches)"
   ]
  },
  {
   "cell_type": "code",
   "execution_count": 202,
   "metadata": {},
   "outputs": [],
   "source": [
    "tfidf_representation = tfidf(speeches)"
   ]
  },
  {
   "cell_type": "code",
   "execution_count": 207,
   "metadata": {},
   "outputs": [
    {
     "name": "stdout",
     "output_type": "stream",
     "text": " "
    }
   ],
   "source": [
    "print (\"TDF-IF Vector for 1st Speech: \\n\")\n",
    "print sklearn_representation.toarray()[0].tolist()"
   ]
  },
  {
   "cell_type": "code",
   "execution_count": 206,
   "metadata": {},
   "outputs": [],
   "source": [
    "def cosine_similarity(vector1, vector2):\n",
    "    dot_product = sum(p*q for p,q in zip(vector1, vector2))\n",
    "    magnitude = math.sqrt(sum([val**2 for val in vector1])) * math.sqrt(sum([val**2 for val in vector2]))\n",
    "    if not magnitude:\n",
    "        return 0\n",
    "    return dot_product/magnitude"
   ]
  },
  {
   "cell_type": "code",
   "execution_count": 214,
   "metadata": {},
   "outputs": [],
   "source": [
    "skl_tfidf_comparisons = []\n",
    "for count_0, speech_0 in enumerate(sklearn_representation.toarray()):\n",
    "    for count_1, speech_1 in enumerate(sklearn_representation.toarray()):\n",
    "        if (count_0 != count_1):\n",
    "            skl_tfidf_comparisons.append((cosine_similarity(speech_0, speech_1), count_0, count_1))"
   ]
  },
  {
   "cell_type": "code",
   "execution_count": 288,
   "metadata": {},
   "outputs": [
    {
     "name": "stdout",
     "output_type": "stream",
     "text": [
      "50 most similar pairs of SOUs given by different Presidents \n",
      "\n",
      "(0.45387379427468044, u'Andrew Jackson', u'Martin Van Buren', u'1836', u'1837')\n",
      "(0.4424983802576889, u'Andrew Jackson', u'Martin Van Buren', u'1836', u'1839')\n",
      "(0.4415166065803033, u'Chester A. Arthur', u'Rutherford B. Hayes', u'1881', u'1880')\n",
      "(0.43700625470887633, u'William McKinley', u'William Howard Taft', u'1899', u'1912')\n",
      "(0.43500867440804153, u'William Howard Taft', u'Theodore Roosevelt', u'1912', u'1907')\n",
      "(0.4316153685861886, u'Andrew Jackson', u'Martin Van Buren', u'1830', u'1837')\n",
      "(0.43155149558414707, u'Andrew Jackson', u'Martin Van Buren', u'1832', u'1837')\n",
      "(0.42993259928903216, u'James Buchanan', u'James K. Polk', u'1858', u'1847')\n",
      "(0.4286242909098021, u'Andrew Jackson', u'Martin Van Buren', u'1834', u'1837')\n",
      "(0.4279670946395277, u'James K. Polk', u'Martin Van Buren', u'1845', u'1837')\n",
      "(0.42630374851368597, u'Andrew Jackson', u'Martin Van Buren', u'1834', u'1839')\n",
      "(0.4255155295431593, u'Chester A. Arthur', u'Rutherford B. Hayes', u'1881', u'1879')\n",
      "(0.4250838844813411, u'Andrew Jackson', u'Martin Van Buren', u'1833', u'1837')\n",
      "(0.4243897738321661, u'Andrew Jackson', u'Martin Van Buren', u'1835', u'1837')\n",
      "(0.42437327196613156, u'James Buchanan', u'James K. Polk', u'1858', u'1845')\n",
      "(0.4243629085930028, u'William Howard Taft', u'Theodore Roosevelt', u'1910', u'1907')\n",
      "(0.4230379282948088, u'James Buchanan', u'James K. Polk', u'1857', u'1848')\n",
      "(0.42288729543251197, u'William McKinley', u'Grover Cleveland', u'1899', u'1885')\n",
      "(0.42281936757982297, u'William Howard Taft', u'Theodore Roosevelt', u'1912', u'1905')\n",
      "(0.4210312800356845, u'Andrew Jackson', u'James K. Polk', u'1836', u'1848')\n",
      "(0.41971214745017593, u'William McKinley', u'Benjamin Harrison', u'1899', u'1889')\n",
      "(0.4195629066651015, u'Rutherford B. Hayes', u'Grover Cleveland', u'1880', u'1886')\n",
      "(0.41945887108191104, u'James Buchanan', u'James K. Polk', u'1857', u'1845')\n",
      "(0.41885487609723615, u'Harry S Truman', u'Dwight D. Eisenhower', u'1948', u'1955')\n",
      "(0.41879574701716477, u'Rutherford B. Hayes', u'Benjamin Harrison', u'1879', u'1889')\n",
      "(0.4183289334761333, u'William J. Clinton', u'Barack Obama', u'1993', u'2010')\n",
      "(0.41828546485362444, u'Martin Van Buren', u'Andrew Jackson', u'1838', u'1830')\n",
      "(0.4174825218222827, u'Andrew Jackson', u'Martin Van Buren', u'1835', u'1839')\n",
      "(0.41720572497021124, u'Rutherford B. Hayes', u'Benjamin Harrison', u'1880', u'1889')\n",
      "(0.41715509678528656, u'Calvin Coolidge', u'Herbert Hoover', u'1926', u'1929')\n",
      "(0.4170314229203651, u'Andrew Jackson', u'Martin Van Buren', u'1829', u'1837')\n",
      "(0.41647983384843373, u'William Howard Taft', u'Theodore Roosevelt', u'1911', u'1907')\n",
      "(0.4162931910470199, u'James Buchanan', u'James K. Polk', u'1858', u'1848')\n",
      "(0.4157452714981433, u'William McKinley', u'William Howard Taft', u'1899', u'1910')\n",
      "(0.415582757972753, u'Herbert Hoover', u'Calvin Coolidge', u'1929', u'1927')\n",
      "(0.41447539435269165, u'John Tyler', u'Martin Van Buren', u'1842', u'1839')\n",
      "(0.41446466775155044, u'Rutherford B. Hayes', u'Grover Cleveland', u'1879', u'1886')\n",
      "(0.41365516507827144, u'Rutherford B. Hayes', u'Grover Cleveland', u'1880', u'1885')\n",
      "(0.4136168711119259, u'James Buchanan', u'James K. Polk', u'1858', u'1846')\n",
      "(0.4130340252351595, u'Martin Van Buren', u'Andrew Jackson', u'1838', u'1834')\n",
      "(0.4125805365437718, u'William McKinley', u'Grover Cleveland', u'1899', u'1886')\n",
      "(0.41253890608074595, u'Martin Van Buren', u'Andrew Jackson', u'1838', u'1836')\n",
      "(0.4124096714135686, u'Rutherford B. Hayes', u'Grover Cleveland', u'1879', u'1885')\n",
      "(0.41182477683223084, u'Martin Van Buren', u'Andrew Jackson', u'1840', u'1836')\n",
      "(0.41132534277979677, u'Harry S Truman', u'Dwight D. Eisenhower', u'1946', u'1955')\n",
      "(0.41119786935723723, u'James Monroe', u'John Quincy Adams', u'1824', u'1826')\n",
      "(0.41115661822931987, u'Andrew Jackson', u'Martin Van Buren', u'1830', u'1839')\n",
      "(0.41088023473084845, u'William J. Clinton', u'Barack Obama', u'1995', u'2010')\n",
      "(0.41045402356096794, u'Chester A. Arthur', u'Grover Cleveland', u'1884', u'1885')\n",
      "(0.4101405819952539, u'Dwight D. Eisenhower', u'Harry S Truman', u'1956', u'1946')\n"
     ]
    }
   ],
   "source": [
    "def rem_duplicates(skl_tfidf_comparisons):\n",
    "    i = 0\n",
    "    new_tfidf_comparisons = []\n",
    "    for x in skl_tfidf_comparisons:\n",
    "        if (i % 2 == 0):\n",
    "            new_tfidf_comparisons.append(x)\n",
    "        i += 1\n",
    "    return new_tfidf_comparisons\n",
    "        \n",
    "i = 0\n",
    "diff_presidents = []\n",
    "sort_tfidf_comparisons = rem_duplicates(sorted(skl_tfidf_comparisons, reverse = True))\n",
    "print \"50 most similar pairs of SOUs given by different Presidents \\n\"\n",
    "for x in sort_tfidf_comparisons:\n",
    "    if (w[x[1]].president != w[x[2]].president):\n",
    "        diff_presidents.append(x)\n",
    "        if (i < 50):\n",
    "            print (x[0], w[x[1]].president, w[x[2]].president, w[x[1]].year, w[x[2]].year);\n",
    "            i += 1"
   ]
  },
  {
   "cell_type": "code",
   "execution_count": 289,
   "metadata": {},
   "outputs": [
    {
     "name": "stdout",
     "output_type": "stream",
     "text": [
      "50 most similar pairs of SOUs given by the same President \n",
      "\n",
      "(0.833963364442439, u'Barack Obama', u'Barack Obama', u'2012', u'2013')\n",
      "(0.5128483519571347, u'James K. Polk', u'James K. Polk', u'1847', u'1846')\n",
      "(0.5050283653656397, u'James Buchanan', u'James Buchanan', u'1858', u'1857')\n",
      "(0.5049412835405339, u'Rutherford B. Hayes', u'Rutherford B. Hayes', u'1880', u'1879')\n",
      "(0.49562411900957526, u'William J. Clinton', u'William J. Clinton', u'2000', u'1999')\n",
      "(0.4951890460926244, u'Theodore Roosevelt', u'Theodore Roosevelt', u'1907', u'1905')\n",
      "(0.49448516750547405, u'William Howard Taft', u'William Howard Taft', u'1910', u'1912')\n",
      "(0.4926729866943094, u'Dwight D. Eisenhower', u'Dwight D. Eisenhower', u'1956', u'1955')\n",
      "(0.49146320328813486, u'Theodore Roosevelt', u'Theodore Roosevelt', u'1904', u'1905')\n",
      "(0.49065459376288983, u'James K. Polk', u'James K. Polk', u'1846', u'1845')\n",
      "(0.4894695938502923, u'Andrew Johnson', u'Andrew Johnson', u'1868', u'1867')\n",
      "(0.48865475193479185, u'William Howard Taft', u'William Howard Taft', u'1912', u'1911')\n",
      "(0.4876090423407149, u'James Buchanan', u'James Buchanan', u'1858', u'1859')\n",
      "(0.4866152364313376, u'Theodore Roosevelt', u'Theodore Roosevelt', u'1906', u'1907')\n",
      "(0.4833353509291665, u'Andrew Jackson', u'Andrew Jackson', u'1834', u'1835')\n",
      "(0.4800106600134165, u'Andrew Jackson', u'Andrew Jackson', u'1833', u'1834')\n",
      "(0.4791238844608921, u'Grover Cleveland', u'Grover Cleveland', u'1885', u'1886')\n",
      "(0.4782293655539169, u'William McKinley', u'William McKinley', u'1899', u'1900')\n",
      "(0.4780221689842529, u'Calvin Coolidge', u'Calvin Coolidge', u'1928', u'1927')\n",
      "(0.4778331020942679, u'James Buchanan', u'James Buchanan', u'1858', u'1860')\n",
      "(0.4771840113688814, u'Andrew Jackson', u'Andrew Jackson', u'1829', u'1830')\n",
      "(0.4751218127580425, u'William J. Clinton', u'William J. Clinton', u'1999', u'1998')\n",
      "(0.4739858924331667, u'William Howard Taft', u'William Howard Taft', u'1912', u'1909')\n",
      "(0.4731377280980525, u'James Buchanan', u'James Buchanan', u'1859', u'1860')\n",
      "(0.4686823391459346, u'James K. Polk', u'James K. Polk', u'1847', u'1848')\n",
      "(0.46867727145898247, u'James Monroe', u'James Monroe', u'1823', u'1824')\n",
      "(0.46802968362022035, u'William Howard Taft', u'William Howard Taft', u'1910', u'1911')\n",
      "(0.4671114312305019, u'William Howard Taft', u'William Howard Taft', u'1910', u'1909')\n",
      "(0.4670474215793919, u'William J. Clinton', u'William J. Clinton', u'1997', u'1998')\n",
      "(0.4666050767957144, u'Dwight D. Eisenhower', u'Dwight D. Eisenhower', u'1954', u'1956')\n",
      "(0.46618116013532857, u'William McKinley', u'William McKinley', u'1898', u'1899')\n",
      "(0.4661111164038529, u'James K. Polk', u'James K. Polk', u'1847', u'1845')\n",
      "(0.465636723450767, u'Rutherford B. Hayes', u'Rutherford B. Hayes', u'1878', u'1879')\n",
      "(0.4652608497589653, u'Dwight D. Eisenhower', u'Dwight D. Eisenhower', u'1954', u'1955')\n",
      "(0.465209601523444, u'Theodore Roosevelt', u'Theodore Roosevelt', u'1907', u'1908')\n",
      "(0.46506002833194504, u'Theodore Roosevelt', u'Theodore Roosevelt', u'1906', u'1905')\n",
      "(0.46499010974793553, u'Rutherford B. Hayes', u'Rutherford B. Hayes', u'1879', u'1877')\n",
      "(0.46495379573998946, u'Andrew Jackson', u'Andrew Jackson', u'1832', u'1833')\n",
      "(0.4633735554253682, u'Martin Van Buren', u'Martin Van Buren', u'1837', u'1839')\n",
      "(0.4629856875565854, u'Theodore Roosevelt', u'Theodore Roosevelt', u'1904', u'1907')\n",
      "(0.4624326546612268, u'Andrew Jackson', u'Andrew Jackson', u'1834', u'1830')\n",
      "(0.4620614123874031, u'William J. Clinton', u'William J. Clinton', u'2000', u'1998')\n",
      "(0.46030000388249703, u'Barack Obama', u'Barack Obama', u'2011', u'2010')\n",
      "(0.45974106104198015, u'Calvin Coolidge', u'Calvin Coolidge', u'1926', u'1927')\n",
      "(0.45902556693370417, u'Grover Cleveland', u'Grover Cleveland', u'1893', u'1894')\n",
      "(0.4579029179871735, u'Harry S Truman', u'Harry S Truman', u'1948', u'1950')\n",
      "(0.45675875873977345, u'Barack Obama', u'Barack Obama', u'2009', u'2010')\n",
      "(0.4566555320757388, u'Franklin Pierce', u'Franklin Pierce', u'1855', u'1856')\n",
      "(0.4559922149506298, u'Martin Van Buren', u'Martin Van Buren', u'1840', u'1839')\n",
      "(0.4548561619236839, u'Martin Van Buren', u'Martin Van Buren', u'1838', u'1839')\n"
     ]
    }
   ],
   "source": [
    "i = 0\n",
    "print \"50 most similar pairs of SOUs given by the same President \\n\"\n",
    "for x in sort_tfidf_comparisons:\n",
    "    if (i < 50):\n",
    "        if (w[x[1]].president == w[x[2]].president):\n",
    "            print (x[0], w[x[1]].president, w[x[2]].president, w[x[1]].year, w[x[2]].year);\n",
    "            i += 1"
   ]
  },
  {
   "cell_type": "code",
   "execution_count": 257,
   "metadata": {},
   "outputs": [
    {
     "name": "stdout",
     "output_type": "stream",
     "text": [" "]
    }
   ],
   "source": [
    "president_sim_list = [{'President_1': 'Andrew Jackson', 'President_2': 'Martin Van Buren', \n",
    "                       'Similarity': 0.45387379427468044, 'Total': 1}]\n",
    "for x in diff_presidents:\n",
    "    dict_pres_1 = [(idx, comp) for idx, comp in enumerate(president_sim_list) \n",
    "     if comp['President_1'] == w[x[1]].president and comp['President_2'] == w[x[2]].president]\n",
    "    dict_pres_2 = [(idx, comp) for idx, comp in enumerate(president_sim_list) \n",
    "     if comp['President_1'] == w[x[2]].president and comp['President_2'] == w[x[1]].president]\n",
    "    if (not dict_pres_1) and (not dict_pres_2):\n",
    "        dict_pres = {'President_1': w[x[1]].president, 'President_2': w[x[2]].president, \n",
    "                       'Similarity': x[0], 'Total': 1}\n",
    "        president_sim_list.append(dict_pres)\n",
    "    if (dict_pres_1):\n",
    "        president_sim_list[dict_pres_1[0][0]]['Similarity'] += x[0]\n",
    "        president_sim_list[dict_pres_1[0][0]]['Total'] += 1\n",
    "        #print president_sim_list[dict_pres_1[0][0]]\n",
    "    if (dict_pres_2):\n",
    "        president_sim_list[dict_pres_2[0][0]]['Similarity'] += x[0]\n",
    "        president_sim_list[dict_pres_2[0][0]]['Total'] += 1\n",
    "        #print president_sim_list[dict_pres_2[0][0]]\n",
    "print president_sim_list    "
   ]
  },
  {
   "cell_type": "code",
   "execution_count": 290,
   "metadata": {},
   "outputs": [
    {
     "name": "stdout",
     "output_type": "stream",
     "text": [
      "25 most similar pairs of Presidents,  averaging the cosine similarity over all pairs of their SOUs.\n",
      "\n",
      "{'Average': 0.4082482937035691, 'President_2': 'Martin Van Buren', 'President_1': 'Andrew Jackson'}\n",
      "{'Average': 0.3997045964014815, 'President_2': u'James K. Polk', 'President_1': u'James Buchanan'}\n",
      "{'Average': 0.39924197157181024, 'President_2': u'Millard Fillmore', 'President_1': u'Zachary Taylor'}\n",
      "{'Average': 0.3964114257299927, 'President_2': u'Martin Van Buren', 'President_1': u'James K. Polk'}\n",
      "{'Average': 0.38905659588179836, 'President_2': u'James K. Polk', 'President_1': u'Millard Fillmore'}\n",
      "{'Average': 0.3837938108998642, 'President_2': u'Martin Van Buren', 'President_1': u'John Tyler'}\n",
      "{'Average': 0.38302459888569423, 'President_2': u'William Howard Taft', 'President_1': u'William McKinley'}\n",
      "{'Average': 0.38264033774228834, 'President_2': u'Zachary Taylor', 'President_1': u'James K. Polk'}\n",
      "{'Average': 0.3820076114423448, 'President_2': u'Rutherford B. Hayes', 'President_1': u'Chester A. Arthur'}\n",
      "{'Average': 0.38118886676149244, 'President_2': u'James K. Polk', 'President_1': u'Andrew Jackson'}\n",
      "{'Average': 0.37630316131258706, 'President_2': u'James K. Polk', 'President_1': u'John Tyler'}\n",
      "{'Average': 0.37547680962376595, 'President_2': u'Benjamin Harrison', 'President_1': u'Rutherford B. Hayes'}\n",
      "{'Average': 0.3752753988341219, 'President_2': u'Theodore Roosevelt', 'President_1': u'William Howard Taft'}\n",
      "{'Average': 0.37511034842852997, 'President_2': u'James K. Polk', 'President_1': u'Franklin Pierce'}\n",
      "{'Average': 0.37294287417793204, 'President_2': u'Franklin Pierce', 'President_1': u'James Buchanan'}\n",
      "{'Average': 0.3708459465228189, 'President_2': u'Martin Van Buren', 'President_1': u'Millard Fillmore'}\n",
      "{'Average': 0.3702936802432839, 'President_2': u'Millard Fillmore', 'President_1': u'Andrew Jackson'}\n",
      "{'Average': 0.37015053878610155, 'President_2': u'Rutherford B. Hayes', 'President_1': u'Ulysses S. Grant'}\n",
      "{'Average': 0.3691729085452204, 'President_2': u'Millard Fillmore', 'President_1': u'James Buchanan'}\n",
      "{'Average': 0.36884896637426484, 'President_2': u'Rutherford B. Hayes', 'President_1': u'William Howard Taft'}\n",
      "{'Average': 0.3688172572576488, 'President_2': u'Martin Van Buren', 'President_1': u'Franklin Pierce'}\n",
      "{'Average': 0.3687796200433405, 'President_2': u'Franklin Pierce', 'President_1': u'Millard Fillmore'}\n",
      "{'Average': 0.36874468922975445, 'President_2': u'Andrew Jackson', 'President_1': u'John Tyler'}\n",
      "{'Average': 0.3682247575061753, 'President_2': u'Martin Van Buren', 'President_1': u'James Buchanan'}\n",
      "{'Average': 0.3675958280703161, 'President_2': u'Zachary Taylor', 'President_1': u'James Buchanan'}\n"
     ]
    }
   ],
   "source": [
    "president_pairs = []\n",
    "for x in president_sim_list:\n",
    "    s_dict = {'President_1': x['President_1'], 'President_2': x['President_2'], \n",
    "              'Average': (x['Similarity']/x['Total'])};\n",
    "    president_pairs.append(s_dict);\n",
    "i = 0\n",
    "print \"25 most similar pairs of Presidents,  averaging the cosine similarity over all pairs of their SOUs.\\n\"\n",
    "for x in sorted(president_pairs, key = lambda pres: pres['Average'], reverse = True):\n",
    "    if (i < 25):\n",
    "        print x\n",
    "    else:\n",
    "        break\n",
    "    i += 1"
   ]
  },
  {
   "cell_type": "markdown",
   "metadata": {},
   "source": [
    "Reading the speeches of Barack Obama in 2012 & 2013 (easily the best similarity score among the '50 most similar pairs of SOUs given by the same President') we can see how themes of recession, jobs and the economy run rampant through both these speeches - highlighting one of the key aspects of Obama's presidency. With the word similarity analysis we just performed, it's easy to see how similar themes in respective speeches show higher similarity scores. They address similar issues that existed in America between 2012 & 2013. \n",
    "\n",
    "In order to get better similarity scores for this, we could've done a better job removing stop words (even though the vectorizer should've already removed them). Thus our speech analysis would've just encompassed words that pertain to the key points of the speech - giving out better similarity scores. Although I removed words that didn't occur that frequently, removing stop words would've been a great next step towards achieving better cosine similarity scores."
   ]
  },
  {
   "cell_type": "code",
   "execution_count": 279,
   "metadata": {},
   "outputs": [],
   "source": [
    "from sklearn.cluster import KMeans\n",
    "n_clusters = 10\n",
    "model = KMeans(n_clusters)\n",
    "arr_clusters = sklearn_representation.toarray()\n",
    "sou_clust=model.fit(arr_clusters)"
   ]
  },
  {
   "cell_type": "code",
   "execution_count": 280,
   "metadata": {},
   "outputs": [
    {
     "name": "stdout",
     "output_type": "stream",
     "text": [
      "Top terms per cluster:\n",
      "Cluster 0:  the  of  to  and  in  be  which  that  our  for\n",
      "Cluster 1:  the  of  and  to  in  be  is  for  that  it\n",
      "Cluster 2:  the  of  to  and  in  that  be  it  by  which\n",
      "Cluster 3:  autocracy  the  of  1933  and  to  rulers  in  that  we\n",
      "Cluster 4:  the  of  to  and  in  that  be  which  it  by\n",
      "Cluster 5:  ve  re  tonight  ll  jobs  the  and  to  of  spending\n",
      "Cluster 6:  the  of  and  to  in  that  for  be  by  is\n",
      "Cluster 7:  tonight  ve  iraq  re  terrorists  the  and  to  americans  of\n",
      "Cluster 8:  the  of  and  to  in  we  our  program  that  for\n",
      "Cluster 9:  1942  hitler  japanese  nazis  1943  1941  axis  fighting  planes  tanks\n"
     ]
    }
   ],
   "source": [
    "print(\"Top terms per cluster:\")\n",
    "order_centroids = model.cluster_centers_.argsort()[:, ::-1]\n",
    "terms = sklearn_tfidf.get_feature_names()\n",
    "for i in range(n_clusters):\n",
    "    print(\"Cluster %d:\" % i),\n",
    "    for ind in order_centroids[i, :10]:\n",
    "        print(' %s' % terms[ind]),\n",
    "    print"
   ]
  },
  {
   "cell_type": "markdown",
   "metadata": {},
   "source": [
    "Although stop words like 'the', 'and', 'of' and 'to' impede the purpose of the clusters, we can still see interpretable patterns develop. In Cluster 9, themes of World War II are clearly highlighted with the use of words 'tank', 'hitler', 'japanese', 'planes' and in Cluster 7, themes of the Iraq War and war on terrorism are easily interpretable. Themes of jobs (Cluster 5) and societal progress are also discernable as the clusters distinguish significant themes of SOU Speeches in America's History. "
   ]
  },
  {
   "cell_type": "code",
   "execution_count": 293,
   "metadata": {},
   "outputs": [
    {
     "name": "stdout",
     "output_type": "stream",
     "text": [
      "Top terms per cluster:\n",
      "Cluster 0:  the  of  to  and  in  be  which  that  our  by\n",
      "Cluster 1:  the  of  to  and  in  that  be  for  by  it\n",
      "Cluster 2:  tonight  the  and  to  of  ve  jobs  we  in  americans\n",
      "Cluster 3:  the  of  and  to  in  be  is  for  that  it\n",
      "Cluster 4:  the  of  and  to  in  we  that  our  is  for\n"
     ]
    }
   ],
   "source": [
    "from sklearn.cluster import KMeans\n",
    "i = 0\n",
    "n_clusters = 5\n",
    "model = KMeans(n_clusters)\n",
    "arr_clusters = sklearn_representation.toarray()\n",
    "sou_clust=model.fit(arr_clusters)\n",
    "i += 1\n",
    "\n",
    "print(\"Top terms per cluster:\")\n",
    "order_centroids = model.cluster_centers_.argsort()[:, ::-1]\n",
    "terms = sklearn_tfidf.get_feature_names()\n",
    "for i in range(n_clusters):\n",
    "    print(\"Cluster %d:\" % i),\n",
    "    for ind in order_centroids[i, :10]:\n",
    "        print(' %s' % terms[ind]),\n",
    "    print"
   ]
  },
  {
   "cell_type": "markdown",
   "metadata": {},
   "source": [
    "With fewer clusters, it becomes tougher to distinguish the ideas and themes that separate each cluster as stop words flourish in our analysis. If I were to repeat this analysis I would remove the stop words from the nltk library. "
   ]
  }
 ],
 "metadata": {
  "kernelspec": {
   "display_name": "Python 2",
   "language": "python",
   "name": "python2"
  },
  "language_info": {
   "codemirror_mode": {
    "name": "ipython",
    "version": 2
   },
   "file_extension": ".py",
   "mimetype": "text/x-python",
   "name": "python",
   "nbconvert_exporter": "python",
   "pygments_lexer": "ipython2",
   "version": "2.7.14"
  }
 },
 "nbformat": 4,
 "nbformat_minor": 2
}
