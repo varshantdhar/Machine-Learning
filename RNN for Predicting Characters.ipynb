{
 "cells": [
  {
   "cell_type": "code",
   "execution_count": 1,
   "metadata": {},
   "outputs": [
    {
     "name": "stderr",
     "output_type": "stream",
     "text": [
      "/software/Anaconda3-5.0.1-el7-x86_64/envs/DL_GPU_cuda_9.0/lib/python3.6/site-packages/h5py/__init__.py:36: FutureWarning: Conversion of the second argument of issubdtype from `float` to `np.floating` is deprecated. In future, it will be treated as `np.float64 == np.dtype(float).type`.\n",
      "  from ._conv import register_converters as _register_converters\n"
     ]
    }
   ],
   "source": [
    "import os\n",
    "import numpy as np\n",
    "import collections\n",
    "import pickle\n",
    "import argparse\n",
    "import tensorflow as tf\n",
    "import time\n",
    "import matplotlib.pyplot as plt\n",
    "%matplotlib inline"
   ]
  },
  {
   "cell_type": "code",
   "execution_count": 2,
   "metadata": {},
   "outputs": [],
   "source": [
    "parser = argparse.ArgumentParser()\n",
    "parser.add_argument('--data_dir', default='./')\n",
    "parser.add_argument('--save_dir', default='./')\n",
    "# Dimension of hidden layer variables h and c\n",
    "parser.add_argument('--num_units', default=128*2)\n",
    "parser.add_argument('--batch_size', default=64)\n",
    "# Number of steps in each batch for training\n",
    "parser.add_argument('--num_steps', default=75)\n",
    "parser.add_argument('--num_epochs', default=30)\n",
    "# Time step\n",
    "parser.add_argument('--lr', default=0.002)\n",
    "# Number of possible inputs/outputs \n",
    "parser.add_argument('--num_chars')\n",
    "parser.add_argument('--num_batches',default=20)\n",
    "args, unparsed = parser.parse_known_args()"
   ]
  },
  {
   "cell_type": "code",
   "execution_count": 3,
   "metadata": {},
   "outputs": [],
   "source": [
    "def timer(start, end):\n",
    "    hrs, rem = divmod(end-start, 3600)\n",
    "    mins, secs = divmod(rem, 60)\n",
    "    print('{:0>2} hours {:0>2} minutes {:05.2f} seconds'.format(int(hrs), int(mins), secs))"
   ]
  },
  {
   "cell_type": "code",
   "execution_count": 6,
   "metadata": {},
   "outputs": [],
   "source": [
    "class TextLoader():\n",
    "\n",
    "    def __init__(self, data_dir, batch_size=64, seq_length=50, encoding='utf-8'):\n",
    "        self.data_dir = data_dir\n",
    "        self.encoding = encoding\n",
    "        self.batch_size = batch_size\n",
    "        self.seq_length = seq_length\n",
    "\n",
    "        self.input_file = os.path.join(data_dir, '/project/cmsc25025/Shakespear/tinyshakespeare.txt')\n",
    "        self.vocab_file = os.path.join(data_dir, '/project/cmsc25025/Shakespear/vocab.pkl')\n",
    "        # Numeric file of characters translated to indices.\n",
    "        self.tensor_file = os.path.join(data_dir, '/project/cmsc25025/Shakespear/data.npy')\n",
    "        \n",
    "        if not (os.path.exists(self.vocab_file) and os.path.exists(self.tensor_file)):\n",
    "            print('it seems we havent processed the text data yet: reading the shakespear')\n",
    "            self.preprocess(self.input_file, self.vocab_file, self.tensor_file)\n",
    "        else:\n",
    "            print('there are preprocessed data - lets load it')\n",
    "            self.load_preprocessed(self.vocab_file, self.tensor_file)\n",
    "\n",
    "        self.create_batches()\n",
    "        self.reset_batch_pointer()\n",
    "\n",
    "    # Create numeric file.\n",
    "    def preprocess(self, input_file=None, vocab_file=None, tensor_file=None, saveit=True):\n",
    "        if input_file is not None:\n",
    "            self.input_file = input_file\n",
    "        if vocab_file is not None:\n",
    "            self.vocab_file = vocab_file\n",
    "        if tensor_file is not None:\n",
    "            self.tensor_file = tensor_file\n",
    "\n",
    "        with open(self.input_file, 'r') as f:\n",
    "            data = f.read()\n",
    "        #data = data.lower()\n",
    "        self.total_length = len(data)\n",
    "        counter = collections.Counter(data)\n",
    "        count_pairs = sorted(counter.items(), key=lambda x: -x[1])\n",
    "        self.chars, _ = zip(*count_pairs)\n",
    "        self.vocab_size = len(self.chars)\n",
    "        self.vocab_to_idx = dict(zip(self.chars, range(len(self.chars))))\n",
    "        self.idx_to_vocab = dict(zip(self.vocab_to_idx.values(), self.vocab_to_idx.keys()))\n",
    "\n",
    "        if saveit:\n",
    "            with open(self.vocab_file, 'wb') as f:  # saving dictionary so we don't compute it again\n",
    "                pickle.dump(self.chars, f)\n",
    "            self.tensor = np.array(list(map(self.vocab_to_idx.get, data)))\n",
    "            np.save(self.tensor_file, self.tensor)  # saving the numerified data\n",
    "    # Load numeric file create dictionaries for char2idx and back\n",
    "    def load_preprocessed(self, vocab_file=None, tensor_file=None):\n",
    "        if vocab_file is not None:\n",
    "            self.vocab_file = vocab_file\n",
    "        if tensor_file is not None:\n",
    "            self.tensor_file = tensor_file\n",
    "\n",
    "        with open(self.vocab_file, 'rb') as f:\n",
    "            self.chars = pickle.load(f)\n",
    "\n",
    "        # attributes\n",
    "        self.vocab_size = len(self.chars)\n",
    "        self.vocab = dict(zip(self.chars, range(self.vocab_size)))\n",
    "        self.vocab_to_idx = dict(zip(self.chars, range(len(self.chars))))\n",
    "        self.idx_to_vocab = dict(zip(self.vocab_to_idx.values(), self.vocab_to_idx.keys()))\n",
    "        self.tensor = np.load(tensor_file)\n",
    "        self.num_batches = int(self.tensor.size / (self.batch_size * self.seq_length))\n",
    "            \n",
    "    # tensor size = the length of the entire data sequence\n",
    "    # divide into batch_size sub sequences and stack\n",
    "    # cut those by seq_length to produce batches of [batch size, seq_length] sized examples\n",
    "    def create_batches(self):\n",
    "\n",
    "        \n",
    "        self.num_batches = int(self.tensor.size / (self.batch_size * self.seq_length))\n",
    "\n",
    "        if self.num_batches == 0:\n",
    "            assert False, 'Not enough data. Make seq_length and/or batch_size smaller'\n",
    "\n",
    "        self.tensor = self.tensor[:self.num_batches * self.batch_size * self.seq_length]  # so we get an even divide\n",
    "        xdata = self.tensor\n",
    "        ydata = np.copy(self.tensor)\n",
    "\n",
    "        # ydata is one step ahead of x and last item is first item of x \n",
    "        # to get sequences of same length    \n",
    "        ydata[:-1] = xdata[1:] \n",
    "        ydata[-1] = xdata[0]\n",
    "\n",
    "        self.x_batches = np.split(xdata.reshape(self.batch_size, -1), self.num_batches, 1)\n",
    "        self.y_batches = np.split(ydata.reshape(self.batch_size, -1), self.num_batches, 1)\n",
    "        \n",
    "        self.train_num_batches=np.int32(self.num_batches*.8)\n",
    "        self.test_num_batches=self.num_batches-self.train_num_batches\n",
    "        self.train_x_batches=self.x_batches[0:self.train_num_batches]\n",
    "        self.train_y_batches=self.y_batches[0:self.train_num_batches]\n",
    "        self.test_x_batches=self.x_batches[self.train_num_batches:]\n",
    "        self.test_y_batches=self.y_batches[self.train_num_batches:]\n",
    "\n",
    "        # xdata: L length\n",
    "        # xdata reshaped: batch_size, (L/batch_size) length following natural indexing\n",
    "        # np.split: into num batches batches along the width(sentence)\n",
    "\n",
    "    def next_batch_train(self):\n",
    "        x, y = self.train_x_batches[self.pointer], self.train_y_batches[self.pointer]\n",
    "        self.pointer += 1\n",
    "        return x,y\n",
    "    \n",
    "    def next_batch_test(self):\n",
    "        x, y = self.test_x_batches[self.pointer], self.test_y_batches[self.pointer]\n",
    "        self.pointer += 1\n",
    "        return x,y\n",
    "\n",
    "    def reset_batch_pointer(self):\n",
    "        self.pointer = 0"
   ]
  },
  {
   "cell_type": "code",
   "execution_count": 7,
   "metadata": {},
   "outputs": [
    {
     "name": "stdout",
     "output_type": "stream",
     "text": [
      "there are preprocessed data - lets load it\n",
      "num chars 65\n",
      "num batches 232\n"
     ]
    }
   ],
   "source": [
    "loader = TextLoader(args.data_dir, batch_size=args.batch_size, seq_length=args.num_steps)\n",
    "args.num_chars = loader.vocab_size\n",
    "print('num chars',args.num_chars)\n",
    "print('num batches',loader.num_batches)"
   ]
  },
  {
   "cell_type": "code",
   "execution_count": 8,
   "metadata": {},
   "outputs": [],
   "source": [
    "class MyBasicRNNCell(tf.contrib.rnn.BasicRNNCell):\n",
    "\n",
    "    def build(self, inputs_shape):\n",
    "\n",
    "        input_depth = inputs_shape[1].value\n",
    "        \n",
    "        self._kernel = self.add_variable(name=\"kernel_hidden\", shape=[input_depth + self._num_units, self._num_units])\n",
    "        self._bias = self.add_variable(name=\"bias_hidden\", shape=[self._num_units], initializer=tf.zeros_initializer())\n",
    "        \n",
    "        self.built = True\n",
    "\n",
    "    def call(self, inputs, state):\n",
    "        \"\"\"Most basic RNN: output = new_state = act(W * input + U * state + B).\"\"\"\n",
    "        \n",
    "        output = tf.tanh(tf.matmul(tf.concat([inputs, state], 1), self._kernel) + self._bias)\n",
    "\n",
    "        return output, output"
   ]
  },
  {
   "cell_type": "code",
   "execution_count": 9,
   "metadata": {},
   "outputs": [],
   "source": [
    "LSTMStateTuple = collections.namedtuple(\"LSTMStateTuple\", (\"c\", \"h\"))\n",
    "\n",
    "class MyBasicLSTMCell(tf.contrib.rnn.BasicLSTMCell):\n",
    "\n",
    "    def build(self, inputs_shape):\n",
    "\n",
    "        input_depth = inputs_shape[1].value\n",
    "        self._kernel = self.add_variable(name=\"kernel\", shape=[input_depth + self._num_units, 4 * self._num_units])\n",
    "        self._bias = self.add_variable(name=\"bias\", shape=[4 * self._num_units], initializer=tf.zeros_initializer())\n",
    "\n",
    "        self.built = True\n",
    "\n",
    "    def call(self, inputs, state):\n",
    "\n",
    "        one = tf.constant(1, dtype=tf.int32)\n",
    "        c, h = state\n",
    "\n",
    "        gate_inputs = tf.matmul(tf.concat([inputs, h], axis=1), self._kernel) + self._bias\n",
    "\n",
    "        input_gate_weights, input_weights, forget_gate_weights, output_gate_weights = tf.split(\n",
    "            value=gate_inputs, num_or_size_splits=4, axis=one)\n",
    "\n",
    "        # forget gating\n",
    "        forget_bias_tensor = tf.constant(1.0, dtype=forget_gate_weights.dtype)\n",
    "        forget_gate = tf.sigmoid(forget_gate_weights + forget_bias_tensor)\n",
    "        gated_memory = c * forget_gate\n",
    "\n",
    "        # input gating\n",
    "        processed_new_input = tf.tanh(input_weights)\n",
    "        input_gate = tf.sigmoid(input_gate_weights)\n",
    "        gated_input = input_gate * processed_new_input\n",
    "\n",
    "        # updating memory\n",
    "        new_c = gated_memory + gated_input\n",
    "\n",
    "        # output gating\n",
    "        processed_memory = tf.tanh(new_c)\n",
    "        output_gate = tf.sigmoid(output_gate_weights)\n",
    "        new_h = processed_memory * output_gate\n",
    "\n",
    "        new_state = tf.nn.rnn_cell.LSTMStateTuple(new_c, new_h)\n",
    "\n",
    "        return new_h, new_state"
   ]
  },
  {
   "cell_type": "code",
   "execution_count": 10,
   "metadata": {},
   "outputs": [],
   "source": [
    "def network(myLSTMCell,inputs,targets):\n",
    "\n",
    "    with tf.variable_scope('embedding_matrix'):\n",
    "        embedding = tf.get_variable('embedding', [args.num_chars, args.num_units])\n",
    "        embedded_inputs = tf.nn.embedding_lookup(embedding, inputs)\n",
    "        inputs_list = tf.unstack(embedded_inputs, axis=1)  # shape: a list of [batch_size, num_units] length num_steps\n",
    "\n",
    "    with tf.variable_scope('LSTMCell') as myscope:\n",
    "        cell = myLSTMCell(args.num_units)\n",
    "        init_state = cell.zero_state(args.batch_size, tf.float32)\n",
    "        state = init_state\n",
    "        outputs = []\n",
    "\n",
    "        for time_, input in enumerate(inputs_list):\n",
    "            if time_ > 0:\n",
    "                myscope.reuse_variables()\n",
    "           \n",
    "            output, state = cell(input, state)\n",
    "            outputs.append(output)\n",
    "    # All hidden outputs for each batch and every step in the batch are reshaped\n",
    "    # as one long matrix to be transformed to logits and compared to targets.\n",
    "        output_reshaped = tf.reshape(tf.concat(outputs, 1), [-1, args.num_units])\n",
    "\n",
    "        final_state = state\n",
    "\n",
    "    with tf.variable_scope('regression'):\n",
    "        W = tf.get_variable('W', [args.num_units, args.num_chars])\n",
    "        b = tf.get_variable('b', [args.num_chars], initializer=tf.constant_initializer(0.0))\n",
    "        logits = tf.matmul(output_reshaped, W) + b\n",
    "        prob = tf.nn.softmax(logits)\n",
    "\n",
    "    with tf.variable_scope('cost'):\n",
    "        targets_straightened = tf.reshape(targets, [-1])\n",
    "        crossentropy = tf.nn.sparse_softmax_cross_entropy_with_logits(logits=logits, \n",
    "                                                    labels=targets_straightened)\n",
    "        loss = tf.reduce_mean(crossentropy)\n",
    "        cost = loss/args.batch_size/args.num_steps\n",
    "\n",
    "    with tf.variable_scope('optimizer'):\n",
    "        train_step = tf.train.AdamOptimizer(args.lr).minimize(loss)\n",
    "\n",
    "    with tf.variable_scope('saver'):\n",
    "        saver = tf.train.Saver()\n",
    "    return init_state, train_step, loss, final_state, saver, prob"
   ]
  },
  {
   "cell_type": "code",
   "execution_count": 24,
   "metadata": {},
   "outputs": [],
   "source": [
    "def trainer(myCell,num_batches=None):\n",
    "    \n",
    "    start_time = time.time()\n",
    "    tf.reset_default_graph()\n",
    "    # Define the placeholders\n",
    "    with tf.variable_scope('placeholders'):\n",
    "            inputs = tf.placeholder(tf.int32, [args.batch_size, args.num_steps])\n",
    "            targets = tf.placeholder(tf.int32, [args.batch_size, args.num_steps])\n",
    "    # Create the network\n",
    "    init_state, train_step, loss, final_state, saver, prob=network(myCell,inputs,targets)\n",
    "    print('train_num_batches',loader.train_num_batches)\n",
    "    \n",
    "    if (num_batches is None):\n",
    "        num_batches=loader.train_num_batches\n",
    "\n",
    "    with tf.Session() as sess:\n",
    "         \n",
    "        sess.run(tf.global_variables_initializer())\n",
    "        # computation graph for training\n",
    "        training_losses = []\n",
    "\n",
    "        for epoch in range(args.num_epochs):\n",
    "            loader.reset_batch_pointer()\n",
    "            state_ = sess.run(init_state)\n",
    "            training_loss = 0\n",
    "\n",
    "            for batch in range(num_batches):\n",
    "\n",
    "                x, y = loader.next_batch_train()\n",
    "\n",
    "                feed_dict = dict()\n",
    "                feed_dict[inputs] = x\n",
    "                feed_dict[targets] = y\n",
    "                \n",
    "                if ('RNN' in myCell.__name__):\n",
    "                    feed_dict[init_state] = state_\n",
    "                else:\n",
    "                    feed_dict[init_state.c] = state_.c\n",
    "                    feed_dict[init_state.h] = state_.h\n",
    "\n",
    "                train_loss_, state_, _ = sess.run([loss, final_state, train_step], feed_dict=feed_dict)\n",
    "                training_loss += train_loss_\n",
    "            training_loss=training_loss/num_batches\n",
    "            print('epoch:', epoch, 'loss:',  training_loss)\n",
    "            training_losses.append(training_loss)\n",
    "        saver.save(sess, os.path.join(args.save_dir, 'saved_model'))\n",
    "    \n",
    "    end_time = time.time()\n",
    "    \n",
    "    timer(start_time, end_time)\n",
    "    plt.plot(training_losses)\n",
    "    plt.ylabel(\"Training Loss\")\n",
    "    plt.xlabel(\"Epoch Number\")\n",
    "    plt.show\n",
    "    return(training_losses)"
   ]
  },
  {
   "cell_type": "code",
   "execution_count": 27,
   "metadata": {},
   "outputs": [
    {
     "name": "stdout",
     "output_type": "stream",
     "text": [
      "train_num_batches 185\n",
      "epoch: 0 loss: 2.382643204766351\n",
      "epoch: 1 loss: 1.8123692100112503\n",
      "epoch: 2 loss: 1.6373591429478414\n",
      "epoch: 3 loss: 1.5412706955059154\n",
      "epoch: 4 loss: 1.4793558262489936\n",
      "epoch: 5 loss: 1.435034162933762\n",
      "epoch: 6 loss: 1.40145216954721\n",
      "epoch: 7 loss: 1.3752302433993366\n",
      "epoch: 8 loss: 1.3530015655466028\n",
      "epoch: 9 loss: 1.334675806277507\n",
      "epoch: 10 loss: 1.317165546803861\n",
      "epoch: 11 loss: 1.3025770780202506\n",
      "epoch: 12 loss: 1.2908360455487224\n",
      "epoch: 13 loss: 1.280519200660087\n",
      "epoch: 14 loss: 1.2688266599500502\n",
      "epoch: 15 loss: 1.2587639499355008\n",
      "epoch: 16 loss: 1.2493483730264612\n",
      "epoch: 17 loss: 1.2405450756485399\n",
      "epoch: 18 loss: 1.2329727611026249\n",
      "epoch: 19 loss: 1.2271043880565746\n",
      "epoch: 20 loss: 1.221526725872143\n",
      "epoch: 21 loss: 1.2147658045227463\n",
      "epoch: 22 loss: 1.207052393861719\n",
      "epoch: 23 loss: 1.2005428468858874\n",
      "epoch: 24 loss: 1.194676914086213\n",
      "epoch: 25 loss: 1.1896039511706378\n",
      "epoch: 26 loss: 1.185378900734154\n",
      "epoch: 27 loss: 1.1822409945565302\n",
      "epoch: 28 loss: 1.1798627924274754\n",
      "epoch: 29 loss: 1.1791800556956111\n",
      "00 hours 04 minutes 13.49 seconds\n"
     ]
    },
    {
     "data": {
      "image/png": "[encoded data removed]",
      "text/plain": [
       "<Figure size 432x288 with 1 Axes>"
      ]
     },
     "metadata": {},
     "output_type": "display_data"
    }
   ],
   "source": [
    "re_lstm_basic = trainer(MyBasicLSTMCell)"
   ]
  },
  {
   "cell_type": "markdown",
   "metadata": {},
   "source": [
    "###  Try  a  few  priming  sentences  and  see  what  the  trained architecture produces "
   ]
  },
  {
   "cell_type": "code",
   "execution_count": 17,
   "metadata": {},
   "outputs": [],
   "source": [
    "def Synthesize(MyCell,init_string=\"None\"):\n",
    "    tf.reset_default_graph()\n",
    "    num_steps_bak=args.num_steps\n",
    "    batch_size_bak=args.batch_size\n",
    "    args.num_steps=1\n",
    "    args.batch_size=1\n",
    "    with tf.variable_scope('placeholders'):\n",
    "            inputs = tf.placeholder(tf.int32, [args.batch_size, args.num_steps])\n",
    "            targets = tf.placeholder(tf.int32, [args.batch_size, args.num_steps])\n",
    "    init_state, train_step, loss, final_state, saver, prob=network(MyCell,inputs,targets)\n",
    "\n",
    "    # Define initialization\n",
    "    if (init_string is None):\n",
    "        initialization = 'Where are you going today?'\n",
    "    else:\n",
    "        initialization = init_string\n",
    "    loader= TextLoader(args.data_dir, batch_size=1, seq_length=1)\n",
    "\n",
    "    forecast_data=np.array(list(map(loader.vocab_to_idx.get, initialization)))\n",
    "    print(forecast_data)\n",
    "    forecast_range = 100\n",
    "    top_k=5\n",
    " \n",
    "    with tf.Session() as sess:\n",
    "\n",
    "        # Load saved model\n",
    "        saver.restore(sess, 'saved_model')\n",
    "        state_ = sess.run(init_state)\n",
    "\n",
    "        # Run rnn on initialization data to get final hidden state before simulation\n",
    "        state_ = sess.run(init_state)\n",
    "        for i in range(forecast_data.shape[0]):\n",
    "\n",
    "            feed_dict = dict()\n",
    "            # Feed current predicted\n",
    "            feed_dict[inputs] = forecast_data[i].reshape(args.batch_size, args.num_steps)\n",
    "            if ('RNN' in MyCell.__name__):\n",
    "                feed_dict[init_state] = state_\n",
    "            else:\n",
    "                feed_dict[init_state.c] = state_.c\n",
    "                feed_dict[init_state.h] = state_.h\n",
    "            # Get new hidden state and prediction probabilities\n",
    "            predicted_prob, state_ = sess.run([prob, final_state], feed_dict=feed_dict)\n",
    "\n",
    "        # last state of this step becomes first state of simulation\n",
    "\n",
    "        for i in range(forecast_range):\n",
    "\n",
    "            feed_dict = dict()\n",
    "            # Feed current predicted\n",
    "            feed_dict[inputs] = forecast_data[-args.num_steps:].reshape(args.batch_size, args.num_steps)\n",
    "            if ('RNN' in MyCell.__name__):\n",
    "                feed_dict[init_state] = state_\n",
    "            else:\n",
    "                feed_dict[init_state.c] = state_.c\n",
    "                feed_dict[init_state.h] = state_.h\n",
    "            predicted_prob, state_ = sess.run([prob, final_state], feed_dict=feed_dict)\n",
    "\n",
    "            predicted_prob = predicted_prob.ravel()\n",
    "            # Simulate from top top_k probs\n",
    "            predicted_prob[np.argsort(predicted_prob)[:-top_k]] = 0\n",
    "            predicted_prob = predicted_prob/np.sum(predicted_prob)\n",
    "            sample = np.random.choice(args.num_chars, 1, p=predicted_prob)[0]\n",
    "\n",
    "\n",
    "            forecast_data = np.hstack((forecast_data, sample))\n",
    "\n",
    "    forecasted_chars = np.asarray([loader.idx_to_vocab[elem] for elem in forecast_data])\n",
    "\n",
    "    print(''.join(forecasted_chars))\n",
    "  \n",
    "    args.num_steps=num_steps_bak\n",
    "    args.batch_size=batch_size_bak"
   ]
  },
  {
   "cell_type": "code",
   "execution_count": 20,
   "metadata": {},
   "outputs": [
    {
     "name": "stdout",
     "output_type": "stream",
     "text": [
      "there are preprocessed data - lets load it\n",
      "[41  1 11 11  3 16  0  5  3 17  0  4  7  1  0 15  3 13 44  0 21  0  4 14\n",
      "  0 17  1]\n",
      "INFO:tensorflow:Restoring parameters from saved_model\n",
      "Hello, how are you? I am wep,\n",
      "Which they have seen to tell him. I hope he says\n",
      "Thy house wherein the seas of the word of heaven\n"
     ]
    }
   ],
   "source": [
    "Synthesize(MyBasicLSTMCell,\"Hello, how are you? I am we\")"
   ]
  },
  {
   "cell_type": "code",
   "execution_count": 21,
   "metadata": {},
   "outputs": [
    {
     "name": "stdout",
     "output_type": "stream",
     "text": [
      "there are preprocessed data - lets load it\n",
      "[ 4 11  4  6 16  0 23  3  3  7  0 50  3  7  9]\n",
      "INFO:tensorflow:Restoring parameters from saved_model\n",
      "alas, poor Yorin\n",
      "Too marry my body that has like me,\n",
      "And then I was a great country is a day,\n",
      "And see the wife's me\n"
     ]
    }
   ],
   "source": [
    "Synthesize(MyBasicLSTMCell,\"alas, poor Yori\")"
   ]
  },
  {
   "cell_type": "code",
   "execution_count": 22,
   "metadata": {},
   "outputs": [
    {
     "name": "stdout",
     "output_type": "stream",
     "text": [
      "there are preprocessed data - lets load it\n",
      "[29  5  1  7  1 30  6  0  4  0  2  9 12  1  0  9  8  0  2  5  1  0  4 18\n",
      " 18  4  9  7  6  0  3 18  0]\n",
      "INFO:tensorflow:Restoring parameters from saved_model\n",
      "There's a tide in the affairs of it,\n",
      "And that thou seem'st the world to him, and\n",
      "I have thy more than a world as more to\n",
      "continue in \n"
     ]
    }
   ],
   "source": [
    "Synthesize(MyBasicLSTMCell,\"There's a tide in the affairs of \")"
   ]
  },
  {
   "cell_type": "markdown",
   "metadata": {},
   "source": [
    "### Load the test set and estimate the error on prediction in the test set."
   ]
  },
  {
   "cell_type": "code",
   "execution_count": 31,
   "metadata": {},
   "outputs": [],
   "source": [
    "def Tester(MyCell, num_batches=None):\n",
    "    tf.reset_default_graph()\n",
    "    with tf.variable_scope('placeholders'):\n",
    "            inputs = tf.placeholder(tf.int32, [args.batch_size, args.num_steps])\n",
    "            targets = tf.placeholder(tf.int32, [args.batch_size, args.num_steps])\n",
    "    init_state, train_step, loss, final_state, saver, prob=network(MyCell,inputs,targets)\n",
    "\n",
    "    # Define initialization\n",
    "    initialization = 'Where are you going today?'\n",
    "    loader= TextLoader(args.data_dir, batch_size=args.batch_size, seq_length=args.num_steps)\n",
    "\n",
    "    forecast_data=np.array(list(map(loader.vocab_to_idx.get, initialization)))\n",
    "    print(forecast_data)\n",
    "    forecast_range = 100\n",
    "    top_k=5\n",
    " \n",
    "    if (num_batches is None):\n",
    "        num_batches=loader.test_num_batches\n",
    "    with tf.Session() as sess:\n",
    "\n",
    "        # Load saved model\n",
    "        saver.restore(sess, 'saved_model')\n",
    "        state_ = sess.run(init_state)\n",
    "        \n",
    "        loader.reset_batch_pointer()\n",
    "        \n",
    "         # Get test error loss\n",
    "        test_loss = 0\n",
    "        print('num_batches',num_batches)\n",
    "\n",
    "        for batch in range(num_batches):\n",
    "\n",
    "            x, y = loader.next_batch_test()\n",
    "\n",
    "            feed_dict = dict()\n",
    "            feed_dict[inputs] = x\n",
    "            feed_dict[targets] = y\n",
    "\n",
    "            if ('RNN' in MyCell.__name__):\n",
    "                feed_dict[init_state] = state_\n",
    "            else:\n",
    "                feed_dict[init_state.c] = state_.c\n",
    "                feed_dict[init_state.h] = state_.h\n",
    "\n",
    "            test_loss_, state_= sess.run([loss, final_state], feed_dict=feed_dict)\n",
    "            test_loss += test_loss_\n",
    "        test_loss=test_loss/num_batches\n",
    "        print('test loss:',  test_loss)\n",
    "\n",
    "    return(test_loss)"
   ]
  },
  {
   "cell_type": "code",
   "execution_count": 32,
   "metadata": {},
   "outputs": [
    {
     "name": "stdout",
     "output_type": "stream",
     "text": [
      "there are preprocessed data - lets load it\n",
      "[39  5  1  7  1  0  4  7  1  0 15  3 13  0 20  3  9  8 20  0  2  3 12  4\n",
      " 15 44]\n",
      "INFO:tensorflow:Restoring parameters from saved_model\n",
      "num_batches 47\n",
      "test loss: 1.4172643118716302\n"
     ]
    },
    {
     "data": {
      "text/plain": [
       "1.4172643118716302"
      ]
     },
     "execution_count": 32,
     "metadata": {},
     "output_type": "execute_result"
    }
   ],
   "source": [
    "Tester(MyBasicLSTMCell)"
   ]
  },
  {
   "cell_type": "markdown",
   "metadata": {},
   "source": [
    "### Run  the  same  experiment  with  the  basic  RNN  architecture.  "
   ]
  },
  {
   "cell_type": "code",
   "execution_count": 33,
   "metadata": {},
   "outputs": [
    {
     "name": "stdout",
     "output_type": "stream",
     "text": [
      "train_num_batches 185\n",
      "epoch: 0 loss: 2.2770076835477675\n",
      "epoch: 1 loss: 1.8400818006412403\n",
      "epoch: 2 loss: 1.690681683694994\n",
      "epoch: 3 loss: 1.6091771306218328\n",
      "epoch: 4 loss: 1.5582162367331016\n",
      "epoch: 5 loss: 1.5220786088221783\n",
      "epoch: 6 loss: 1.4946965578440072\n",
      "epoch: 7 loss: 1.473355000083511\n",
      "epoch: 8 loss: 1.4562016783533869\n",
      "epoch: 9 loss: 1.4421293168454556\n",
      "epoch: 10 loss: 1.4303878545761108\n",
      "epoch: 11 loss: 1.4203908823631906\n",
      "epoch: 12 loss: 1.4117130878809336\n",
      "epoch: 13 loss: 1.4045269953237998\n",
      "epoch: 14 loss: 1.3979167699813844\n",
      "epoch: 15 loss: 1.3913341064710876\n",
      "epoch: 16 loss: 1.3861676383662869\n",
      "epoch: 17 loss: 1.3815159140406428\n",
      "epoch: 18 loss: 1.3765611944971858\n",
      "epoch: 19 loss: 1.372133697045816\n",
      "epoch: 20 loss: 1.3681902241062474\n",
      "epoch: 21 loss: 1.3646762757687956\n",
      "epoch: 22 loss: 1.3615674714784365\n",
      "epoch: 23 loss: 1.3589485555081755\n",
      "epoch: 24 loss: 1.3567184010067501\n",
      "epoch: 25 loss: 1.3547011285214812\n",
      "epoch: 26 loss: 1.3528355682218396\n",
      "epoch: 27 loss: 1.3512542118897308\n",
      "epoch: 28 loss: 1.3501659618841635\n",
      "epoch: 29 loss: 1.3487160708453205\n",
      "00 hours 01 minutes 45.43 seconds\n"
     ]
    },
    {
     "data": {
      "image/png": "[encoded data removed]",
      "text/plain": [
       "<Figure size 432x288 with 1 Axes>"
      ]
     },
     "metadata": {},
     "output_type": "display_data"
    }
   ],
   "source": [
    "re_rnn_basic = trainer(MyBasicRNNCell)"
   ]
  },
  {
   "cell_type": "code",
   "execution_count": 34,
   "metadata": {},
   "outputs": [
    {
     "name": "stdout",
     "output_type": "stream",
     "text": [
      "there are preprocessed data - lets load it\n",
      "[39  5  1  7  1  0  4  7  1  0 15  3 13  0 20  3  9  8 20  0  2  3 12  4\n",
      " 15 44]\n",
      "INFO:tensorflow:Restoring parameters from saved_model\n",
      "num_batches 47\n",
      "test loss: 1.4619141994638647\n"
     ]
    },
    {
     "data": {
      "text/plain": [
       "1.4619141994638647"
      ]
     },
     "execution_count": 34,
     "metadata": {},
     "output_type": "execute_result"
    }
   ],
   "source": [
    "Tester(MyBasicRNNCell)"
   ]
  },
  {
   "cell_type": "markdown",
   "metadata": {},
   "source": [
    "The training errors start at similar points for the initial epochs in both the RNN and LSTM models - however, in the LSTM model the training loss reduces to 1.18 at the 30th epoch whereas in the RNN model, the training loss only reduces to 1.46 at the 30th epoch. This could be because RNN uses 1/4th of the variables - leading to the time taken to calculate training loss reducing substantially. The testing loss is slightly lower in the LSTM model as well."
   ]
  }
 ],
 "metadata": {
  "kernelspec": {
   "display_name": "Python 2",
   "language": "python",
   "name": "python2"
  },
  "language_info": {
   "codemirror_mode": {
    "name": "ipython",
    "version": 2
   },
   "file_extension": ".py",
   "mimetype": "text/x-python",
   "name": "python",
   "nbconvert_exporter": "python",
   "pygments_lexer": "ipython2",
   "version": "2.7.14"
  }
 },
 "nbformat": 4,
 "nbformat_minor": 2
}
